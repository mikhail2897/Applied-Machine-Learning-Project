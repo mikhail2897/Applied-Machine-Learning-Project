{
 "cells": [
  {
   "cell_type": "code",
   "execution_count": 2,
   "metadata": {},
   "outputs": [],
   "source": [
    "import pandas as pd\n",
    "import numpy as np\n",
    "import sklearn\n",
    "import datetime\n",
    "from sklearn.model_selection import train_test_split\n",
    "import matplotlib.pyplot as plt\n",
    "import seaborn as sns\n",
    "from scipy.sparse import csr_matrix\n",
    "from sklearn.decomposition import NMF\n",
    "from annoy import AnnoyIndex\n",
    "import pickle"
   ]
  },
  {
   "cell_type": "code",
   "execution_count": 5,
   "metadata": {},
   "outputs": [
    {
     "name": "stdout",
     "output_type": "stream",
     "text": [
      "<class 'pandas.core.frame.DataFrame'>\n",
      "RangeIndex: 20000263 entries, 0 to 20000262\n",
      "Data columns (total 4 columns):\n",
      " #   Column     Dtype  \n",
      "---  ------     -----  \n",
      " 0   userId     int64  \n",
      " 1   movieId    int64  \n",
      " 2   rating     float64\n",
      " 3   timestamp  object \n",
      "dtypes: float64(1), int64(2), object(1)\n",
      "memory usage: 610.4+ MB\n",
      "None\n"
     ]
    }
   ],
   "source": [
    "import pandas as pd\n",
    "\n",
    "# Reading ratings file\n",
    "rating_dt = pd.read_csv('/Users/mikhailpinto/Downloads/Sem 2/IST707 - AML/Project/Movie Rec Data/rating.csv', sep=',', encoding='latin-1', usecols=['userId','movieId','rating','timestamp'])\n",
    "\n",
    "# Reading movies file\n",
    "movie_dt = pd.read_csv('/Users/mikhailpinto/Downloads/Sem 2/IST707 - AML/Project/Movie Rec Data/movie.csv', sep=',', encoding='latin-1', usecols=['movieId','title','genres'])\n",
    "print(rating_dt.info())"
   ]
  },
  {
   "cell_type": "code",
   "execution_count": 6,
   "metadata": {},
   "outputs": [
    {
     "data": {
      "text/html": [
       "<div>\n",
       "<style scoped>\n",
       "    .dataframe tbody tr th:only-of-type {\n",
       "        vertical-align: middle;\n",
       "    }\n",
       "\n",
       "    .dataframe tbody tr th {\n",
       "        vertical-align: top;\n",
       "    }\n",
       "\n",
       "    .dataframe thead th {\n",
       "        text-align: right;\n",
       "    }\n",
       "</style>\n",
       "<table border=\"1\" class=\"dataframe\">\n",
       "  <thead>\n",
       "    <tr style=\"text-align: right;\">\n",
       "      <th></th>\n",
       "      <th>userId</th>\n",
       "      <th>movieId</th>\n",
       "      <th>rating</th>\n",
       "      <th>timestamp</th>\n",
       "    </tr>\n",
       "  </thead>\n",
       "  <tbody>\n",
       "    <tr>\n",
       "      <th>236</th>\n",
       "      <td>3</td>\n",
       "      <td>1</td>\n",
       "      <td>4.0</td>\n",
       "      <td>1999-12-11 13:36:47</td>\n",
       "    </tr>\n",
       "    <tr>\n",
       "      <th>237</th>\n",
       "      <td>3</td>\n",
       "      <td>24</td>\n",
       "      <td>3.0</td>\n",
       "      <td>1999-12-14 12:54:08</td>\n",
       "    </tr>\n",
       "    <tr>\n",
       "      <th>238</th>\n",
       "      <td>3</td>\n",
       "      <td>32</td>\n",
       "      <td>4.0</td>\n",
       "      <td>1999-12-11 13:14:07</td>\n",
       "    </tr>\n",
       "    <tr>\n",
       "      <th>239</th>\n",
       "      <td>3</td>\n",
       "      <td>50</td>\n",
       "      <td>5.0</td>\n",
       "      <td>1999-12-11 13:13:38</td>\n",
       "    </tr>\n",
       "    <tr>\n",
       "      <th>240</th>\n",
       "      <td>3</td>\n",
       "      <td>160</td>\n",
       "      <td>3.0</td>\n",
       "      <td>1999-12-14 12:54:08</td>\n",
       "    </tr>\n",
       "  </tbody>\n",
       "</table>\n",
       "</div>"
      ],
      "text/plain": [
       "     userId  movieId  rating            timestamp\n",
       "236       3        1     4.0  1999-12-11 13:36:47\n",
       "237       3       24     3.0  1999-12-14 12:54:08\n",
       "238       3       32     4.0  1999-12-11 13:14:07\n",
       "239       3       50     5.0  1999-12-11 13:13:38\n",
       "240       3      160     3.0  1999-12-14 12:54:08"
      ]
     },
     "execution_count": 6,
     "metadata": {},
     "output_type": "execute_result"
    }
   ],
   "source": [
    "# randomly select 20% users from rating dataset \n",
    "user_ids = rating_dt[\"userId\"].unique().tolist() \n",
    "num_all_user = len(user_ids)\n",
    "\n",
    "np.random.seed(123)\n",
    "rand_userid = np.random.choice(user_ids, size = int(num_all_user * 0.1), replace=False)\n",
    "sample_df = rating_dt.loc[rating_dt['userId'].isin(rand_userid)]\n",
    "\n",
    "sample_df.head()"
   ]
  },
  {
   "cell_type": "code",
   "execution_count": 7,
   "metadata": {},
   "outputs": [],
   "source": [
    "# pivot movie, user, rating dataframe into compressed matrix\n",
    "def movie_use_matrix_pivot(df_):\n",
    "    mu_matrix = df_.pivot(index = 'userId', \n",
    "                          columns = 'movieId', \n",
    "                          values = 'rating').fillna(0)\n",
    "    # compress original matrix\n",
    "    mu_matrix_cp = csr_matrix(mu_matrix.values)\n",
    "    return mu_matrix, mu_matrix_cp\n",
    "# get rating matrix\n",
    "rating_matrix, rating_matrix_cp = movie_use_matrix_pivot(sample_df)"
   ]
  },
  {
   "cell_type": "code",
   "execution_count": 8,
   "metadata": {},
   "outputs": [],
   "source": [
    "# Implement Non negative matrix factorization to find the item latent factors\n",
    "# input: number of latent factors - dimension; compressed rating matrix - data\n",
    "# output: return the item latent factors\n",
    "def get_item_latent_factor(dimension, matrix_cp):\n",
    "    nmf_model = NMF(n_components=dimension)     # starts with 20 latents factors\n",
    "    # Matrix factorization               # V ~ W.H  (Find two non-negative matrices (W, H) whose product approximates the non- negative matrix X. )\n",
    "    nmf_model.fit(matrix_cp)     # R can be array-like or sparse, here it is array-like (dense)\n",
    "    item_vectors = nmf_model.components_.T         # item latent factors\n",
    "    return item_vectors"
   ]
  },
  {
   "cell_type": "code",
   "execution_count": 9,
   "metadata": {},
   "outputs": [],
   "source": [
    "# get rmse on test set\n",
    "# input: data and number of factors\n",
    "# output: rmse\n",
    "from surprise.model_selection import cross_validate\n",
    "from surprise import NMF as surprise_nmf\n",
    "from surprise.accuracy import rmse\n",
    "from surprise import accuracy\n",
    "from surprise import Reader\n",
    "from surprise import Dataset\n",
    "from surprise.model_selection import train_test_split as surprise_train_test_split\n",
    "def get_nmf_rmse(sample_data, num_factors):\n",
    "    reader = Reader(rating_scale=(0, 5))\n",
    "    data = Dataset.load_from_df(sample_data[['userId', 'movieId', 'rating']], reader)\n",
    "    trainset, testset = surprise_train_test_split(data, test_size=0.2)\n",
    "    algo = surprise_nmf(n_factors = num_factors)\n",
    "    predictions = algo.fit(trainset).test(testset)\n",
    "    accuracy.rmse(predictions)"
   ]
  },
  {
   "cell_type": "code",
   "execution_count": 10,
   "metadata": {},
   "outputs": [],
   "source": [
    "# tuning number of factors with cv\n",
    "# mean_scores = [0.9173990498169124, 0.90017791088623, 0.9006444171555912, 0.9094033122784755, 0.9208407704724129]\n",
    "# choose num_factors = 14\n",
    "mean_scores = []\n",
    "reader = Reader(rating_scale=(0, 5))\n",
    "data = Dataset.load_from_df(sample_df[['userId', 'movieId', 'rating']], reader)\n",
    "num = [10, 14, 18, 22, 26]\n",
    "for n in [10, 14, 18, 22, 26]:\n",
    "    nmf_model = surprise_nmf(n_factors = n)\n",
    "    score = cross_validate(nmf_model, data, measures=['RMSE'], cv=3, verbose=False)['test_rmse']\n",
    "    mean_scores.append(score.mean())"
   ]
  },
  {
   "cell_type": "code",
   "execution_count": 11,
   "metadata": {},
   "outputs": [
    {
     "data": {
      "text/plain": [
       "[0.8945355139888589,\n",
       " 0.8767086063419502,\n",
       " 0.877818999435385,\n",
       " 0.8880521810903276,\n",
       " 0.9019924590470034]"
      ]
     },
     "execution_count": 11,
     "metadata": {},
     "output_type": "execute_result"
    }
   ],
   "source": [
    "mean_scores"
   ]
  },
  {
   "cell_type": "code",
   "execution_count": 12,
   "metadata": {},
   "outputs": [
    {
     "name": "stdout",
     "output_type": "stream",
     "text": [
      "RMSE: 0.8716\n"
     ]
    }
   ],
   "source": [
    "# in test set: RMSE: 0.8846\n",
    "get_nmf_rmse(sample_df, 14)"
   ]
  },
  {
   "cell_type": "code",
   "execution_count": 13,
   "metadata": {},
   "outputs": [
    {
     "name": "stdout",
     "output_type": "stream",
     "text": [
      "RMSE: 0.8800\n",
      "RMSE: 0.9141\n",
      "RMSE: 0.8907\n",
      "RMSE: 0.8730\n"
     ]
    }
   ],
   "source": [
    "# in test set: RMSE: 0.8921 \n",
    "get_nmf_rmse(sample_df, 20)\n",
    "# in test set: RMSE: 0.9239\n",
    "get_nmf_rmse(sample_df, 30)\n",
    "# in test set: RMSE: 0.9050\n",
    "get_nmf_rmse(sample_df, 10)\n",
    "# in test set: RMSE: 0.8858\n",
    "get_nmf_rmse(sample_df, 15)"
   ]
  },
  {
   "cell_type": "code",
   "execution_count": 14,
   "metadata": {},
   "outputs": [
    {
     "data": {
      "text/plain": [
       "[Text(0.5, 0, 'Number of Latent Factors in NMF'),\n",
       " Text(0, 0.5, 'CV rmse'),\n",
       " Text(0.5, 1.0, '3-Fold CV')]"
      ]
     },
     "execution_count": 14,
     "metadata": {},
     "output_type": "execute_result"
    },
    {
     "data": {
      "image/png": "[encoded data removed]",
      "text/plain": [
       "<Figure size 576x432 with 1 Axes>"
      ]
     },
     "metadata": {
      "needs_background": "light"
     },
     "output_type": "display_data"
    }
   ],
   "source": [
    "#num = [10, 14, 18, 22, 26]\n",
    "#mean_scores = [0.9173990498169124, 0.90017791088623, 0.9006444171555912, 0.9094033122784755, 0.9208407704724129]\n",
    "cv_result_df = pd.DataFrame({'cv_rmse': mean_scores, 'n_factors': num})\n",
    "\n",
    "fig, ax = plt.subplots(figsize=(8, 6))\n",
    "sns.pointplot(x=cv_result_df.n_factors, y=cv_result_df.cv_rmse, ax=ax)\n",
    "ax.set(xlabel='Number of Latent Factors in NMF', ylabel='CV rmse', title='3-Fold CV')"
   ]
  },
  {
   "cell_type": "code",
   "execution_count": 16,
   "metadata": {},
   "outputs": [
    {
     "name": "stderr",
     "output_type": "stream",
     "text": [
      "/Library/Frameworks/Python.framework/Versions/3.9/lib/python3.9/site-packages/sklearn/decomposition/_nmf.py:289: FutureWarning: The 'init' value, when 'init=None' and n_components is less than n_samples and n_features, will be changed from 'nndsvd' to 'nndsvda' in 1.1 (renaming of 0.26).\n",
      "  warnings.warn(\n",
      "/Library/Frameworks/Python.framework/Versions/3.9/lib/python3.9/site-packages/sklearn/decomposition/_nmf.py:1637: ConvergenceWarning: Maximum number of iterations 200 reached. Increase it to improve convergence.\n",
      "  warnings.warn(\n"
     ]
    },
    {
     "ename": "OSError",
     "evalue": "[Errno 30] Read-only file system: 'nmf_model.sav'",
     "output_type": "error",
     "traceback": [
      "\u001b[0;31m---------------------------------------------------------------------------\u001b[0m",
      "\u001b[0;31mOSError\u001b[0m                                   Traceback (most recent call last)",
      "\u001b[1;32mUntitled-1.ipynb Cell 12'\u001b[0m in \u001b[0;36m<cell line: 5>\u001b[0;34m()\u001b[0m\n\u001b[1;32m      <a href='vscode-notebook-cell:Untitled-1.ipynb?jupyter-notebook#ch0000011untitled?line=2'>3</a>\u001b[0m nmf_model\u001b[39m.\u001b[39mfit(rating_matrix_cp)  \n\u001b[1;32m      <a href='vscode-notebook-cell:Untitled-1.ipynb?jupyter-notebook#ch0000011untitled?line=3'>4</a>\u001b[0m filename \u001b[39m=\u001b[39m \u001b[39m'\u001b[39m\u001b[39mnmf_model.sav\u001b[39m\u001b[39m'\u001b[39m\n\u001b[0;32m----> <a href='vscode-notebook-cell:Untitled-1.ipynb?jupyter-notebook#ch0000011untitled?line=4'>5</a>\u001b[0m pickle\u001b[39m.\u001b[39mdump(nmf_model, \u001b[39mopen\u001b[39m(filename, \u001b[39m'\u001b[39m\u001b[39mwb\u001b[39m\u001b[39m'\u001b[39m))\n\u001b[1;32m      <a href='vscode-notebook-cell:Untitled-1.ipynb?jupyter-notebook#ch0000011untitled?line=5'>6</a>\u001b[0m loaded_model \u001b[39m=\u001b[39m pickle\u001b[39m.\u001b[39mload(\u001b[39mopen\u001b[39m(filename, \u001b[39m'\u001b[39m\u001b[39mrb\u001b[39m\u001b[39m'\u001b[39m))\n\u001b[1;32m      <a href='vscode-notebook-cell:Untitled-1.ipynb?jupyter-notebook#ch0000011untitled?line=6'>7</a>\u001b[0m item_vector \u001b[39m=\u001b[39m loaded_model\u001b[39m.\u001b[39mcomponents_\u001b[39m.\u001b[39mT\n",
      "\u001b[0;31mOSError\u001b[0m: [Errno 30] Read-only file system: 'nmf_model.sav'"
     ]
    }
   ],
   "source": [
    "# save the best NMF model (nu_components 14)\n",
    "nmf_model = NMF(n_components=14)     \n",
    "nmf_model.fit(rating_matrix_cp)  \n",
    "filename = 'nmf_model.sav'\n",
    "pickle.dump(nmf_model, open(filename, 'wb'))\n",
    "loaded_model = pickle.load(open(filename, 'rb'))\n",
    "item_vector = loaded_model.components_.T"
   ]
  },
  {
   "cell_type": "code",
   "execution_count": 17,
   "metadata": {},
   "outputs": [
    {
     "ename": "FileNotFoundError",
     "evalue": "[Errno 2] No such file or directory: 'nmf_model.sav'",
     "output_type": "error",
     "traceback": [
      "\u001b[0;31m---------------------------------------------------------------------------\u001b[0m",
      "\u001b[0;31mFileNotFoundError\u001b[0m                         Traceback (most recent call last)",
      "\u001b[1;32mUntitled-1.ipynb Cell 13'\u001b[0m in \u001b[0;36m<cell line: 2>\u001b[0;34m()\u001b[0m\n\u001b[1;32m      <a href='vscode-notebook-cell:Untitled-1.ipynb?jupyter-notebook#ch0000012untitled?line=0'>1</a>\u001b[0m filename \u001b[39m=\u001b[39m \u001b[39m'\u001b[39m\u001b[39mnmf_model.sav\u001b[39m\u001b[39m'\u001b[39m\n\u001b[0;32m----> <a href='vscode-notebook-cell:Untitled-1.ipynb?jupyter-notebook#ch0000012untitled?line=1'>2</a>\u001b[0m loaded_model \u001b[39m=\u001b[39m pickle\u001b[39m.\u001b[39mload(\u001b[39mopen\u001b[39m(filename, \u001b[39m'\u001b[39m\u001b[39mrb\u001b[39m\u001b[39m'\u001b[39m))\n\u001b[1;32m      <a href='vscode-notebook-cell:Untitled-1.ipynb?jupyter-notebook#ch0000012untitled?line=2'>3</a>\u001b[0m item_vector \u001b[39m=\u001b[39m loaded_model\u001b[39m.\u001b[39mcomponents_\u001b[39m.\u001b[39mT\n",
      "\u001b[0;31mFileNotFoundError\u001b[0m: [Errno 2] No such file or directory: 'nmf_model.sav'"
     ]
    }
   ],
   "source": [
    "filename = 'nmf_model.sav'\n",
    "loaded_model = pickle.load(open(filename, 'rb'))\n",
    "item_vector = loaded_model.components_.T"
   ]
  },
  {
   "cell_type": "code",
   "execution_count": 18,
   "metadata": {},
   "outputs": [
    {
     "ename": "NameError",
     "evalue": "name 'item_vector' is not defined",
     "output_type": "error",
     "traceback": [
      "\u001b[0;31m---------------------------------------------------------------------------\u001b[0m",
      "\u001b[0;31mNameError\u001b[0m                                 Traceback (most recent call last)",
      "\u001b[1;32mUntitled-1.ipynb Cell 14'\u001b[0m in \u001b[0;36m<cell line: 1>\u001b[0;34m()\u001b[0m\n\u001b[0;32m----> <a href='vscode-notebook-cell:Untitled-1.ipynb?jupyter-notebook#ch0000013untitled?line=0'>1</a>\u001b[0m item_vector\n",
      "\u001b[0;31mNameError\u001b[0m: name 'item_vector' is not defined"
     ]
    }
   ],
   "source": [
    "item_vector"
   ]
  },
  {
   "cell_type": "code",
   "execution_count": null,
   "metadata": {},
   "outputs": [],
   "source": [
    "pickle.dump(item_vector, open('item_list', 'wb'))"
   ]
  },
  {
   "cell_type": "code",
   "execution_count": null,
   "metadata": {},
   "outputs": [],
   "source": [
    "# Implement Approximate Nearest Neighborhood to find similar items, save it in 'rating.ann' \n",
    "# input: target movie, rating matrix, item_vectors, metric (can be \"angular\", \"euclidean\", \"manhattan\", \"hamming\")\n",
    "#        number of trees(More trees gives higher precision when querying)\n",
    "# output: save it in 'rating.ann' \n",
    "def ann(matrix, item_vectors, metric, num_trees):\n",
    "    # construct a dictionary where movied id contains its vector representation \n",
    "    movieids = matrix.columns.tolist()\n",
    "    rating_dictionary = {movieids[i]: item_vectors[i] for i in range(len(movieids))} \n",
    "    # ann method\n",
    "    f = len(item_vectors[1])\n",
    "    t = AnnoyIndex(f, metric)  # Length of item vector that will be indexed\n",
    "    for key in rating_dictionary:\n",
    "        t.add_item(key, rating_dictionary.get(key))\n",
    "    t.build(num_trees) # 10 trees\n",
    "    t.save('rating.ann')"
   ]
  },
  {
   "cell_type": "code",
   "execution_count": null,
   "metadata": {},
   "outputs": [],
   "source": [
    "# find similar items given the targeted movies\n",
    "# input: f is the length of item vector that will be indexed, top_n - n closed movies \n",
    "# output: a 2 element tuple with two lists in it,\n",
    "#        the first one top_n similar movies from closer to further away from the target movies \n",
    "#        the second one containing all corresponding distances\n",
    "def get_similar_movies(f, target, metric, top_n):\n",
    "    u = AnnoyIndex(f, metric)\n",
    "    u.load('rating.ann') # super fast, will just mmap the file\n",
    "    movies, distances = u.get_nns_by_item(target, top_n, include_distances=True) \n",
    "    return movies[1:], distances[1:]"
   ]
  },
  {
   "cell_type": "code",
   "execution_count": null,
   "metadata": {},
   "outputs": [],
   "source": [
    "# input: rating dataset, userid, a rating threshold, movies that are rated below threshold\n",
    "# will not be counted \n",
    "# output: a list of high-scored movies that are rated by givern user, a list of corresponding ratings\n",
    "#\n",
    "def get_rated_movies(data, userid, threshold=2):\n",
    "    all_rates = data[data['userId'] == userid]\n",
    "    high_rates = all_rates[all_rates['rating'] >= threshold]['rating'].values\n",
    "    high_rate_movie = all_rates[all_rates['rating'] >= threshold]['movieId'].values\n",
    "    return high_rate_movie, high_rates"
   ]
  },
  {
   "cell_type": "code",
   "execution_count": null,
   "metadata": {},
   "outputs": [],
   "source": [
    "# get recommendation list for each user in the data set\n",
    "# input: data - orginal dataframe; dimension - number of latent factors in NMF; matrix_cp - compressed rating matrix;\n",
    "#        matrix - rating matrix; metric - distance metric in ANN method; num_tree - number of trees in ANN;\n",
    "#        threshold - rating threshold; top_n - most n similar movies\n",
    "# output: return a recommendation lsit for each user, each list consists of at most 20 movies.\n",
    "def get_recommendation(data, dimension, matrix_cp, matrix, metric, num_tree, threshold, top_n):\n",
    "    userIds = data.userId.unique()\n",
    "    v = get_item_latent_factor(dimension, rating_matrix_cp)\n",
    "    ann(matrix, v, metric, num_tree)     # save the ann in 'rating.ann' file\n",
    "    f = len(v[1])\n",
    "    u = AnnoyIndex(f, metric)\n",
    "    u.load('rating.ann')\n",
    "    # construct the recommendation list for each user\n",
    "    recommendation_dict = {}\n",
    "    for userid in userIds:\n",
    "        high_rate_movie, rate = get_rated_movies(data, userid, threshold)\n",
    "        movielist = []\n",
    "        distancelist = []\n",
    "        if len(high_rate_movie) > 1:\n",
    "            # find neighborhood of each movies in the high rated movie set\n",
    "            for movieid in high_rate_movie:\n",
    "                movie, dist = u.get_nns_by_item(movieid, top_n, include_distances=True)\n",
    "                movielist.extend(movie[1:])\n",
    "                # get the weighted distance based on rating scores\n",
    "                weighted_dist = (np.array(dist[1:])/rate[np.where(high_rate_movie == movieid)]).tolist()\n",
    "                distancelist.extend(weighted_dist)  \n",
    "            #if more than 20 movies are chosen to recommend to user, choose 20 nearest item for this user\n",
    "            if len(movielist) > 20:\n",
    "                sorted_recommend = np.array(movielist)[np.array(distancelist).argsort()]\n",
    "                movielist = sorted_recommend[:20]\n",
    "        recommendation_dict[userid] = movielist\n",
    "    return recommendation_dict"
   ]
  },
  {
   "cell_type": "code",
   "execution_count": null,
   "metadata": {},
   "outputs": [],
   "source": [
    "# one set of hyperparameter output below dictionary\n",
    "res = get_recommendation(sample_df, 20, rating_matrix_cp, rating_matrix, 'angular', 10, 2, 10)"
   ]
  },
  {
   "cell_type": "code",
   "execution_count": null,
   "metadata": {},
   "outputs": [],
   "source": [
    "# calculate hit rate\n",
    "def get_hitrate(data, dimension, matrix_cp, matrix, metric, num_tree, threshold, top_n):\n",
    "    userIds = data.userId.unique()\n",
    "    v = get_item_latent_factor(dimension, rating_matrix_cp)\n",
    "    ann(matrix, v, metric, num_tree)     # save the ann in 'rating.ann' file\n",
    "    f = len(v[1])\n",
    "    u = AnnoyIndex(f, metric)\n",
    "    u.load('rating.ann')\n",
    "    hit = 0\n",
    "    total = 0\n",
    "    for userid in userIds:\n",
    "        high_rate_movie, rate = get_rated_movies(data, userid, threshold)\n",
    "        movielist = []\n",
    "        distancelist = []\n",
    "        if len(high_rate_movie) > 1:\n",
    "            token = np.random.randint(len(high_rate_movie))\n",
    "            l = high_rate_movie[token]\n",
    "            new_movies = np.delete(high_rate_movie, [token])\n",
    "            new_ratings = np.delete(rate, [token])\n",
    "            # find neighborhood of each movies in the high rated movie set\n",
    "            for movieid in new_movies:\n",
    "                movie, dist = u.get_nns_by_item(movieid, top_n, include_distances=True)\n",
    "                movielist.extend(movie[1:])\n",
    "                # get the weighted distance based on rating scores\n",
    "                weighted_dist = (np.array(dist[1:])/new_ratings[np.where(new_movies == movieid)]).tolist()\n",
    "                distancelist.extend(weighted_dist)  \n",
    "            #if more than 20 movies are chosen to recommend to user, choose 20 nearest item for this user\n",
    "            if len(movielist) > 20:\n",
    "                sorted_recommend = np.array(movielist)[np.array(distancelist).argsort()]\n",
    "                movielist = sorted_recommend[:20]\n",
    "            if l in movielist:\n",
    "                hit += 1\n",
    "            total += 1\n",
    "    return hit/total\n"
   ]
  },
  {
   "cell_type": "code",
   "execution_count": null,
   "metadata": {},
   "outputs": [],
   "source": [
    "# hit rate for different number of trees\n",
    "# hit_rate_list = [0.04645785918138796, 0.04667461435641776, 0.04793901954409162, 0.04786676781908168, 0.04765001264405188]\n",
    "trees = [10, 15, 20, 25, 30]\n",
    "hit_rate_list = []\n",
    "for tree in trees:\n",
    "    h = get_hitrate(sample_df, 14, rating_matrix_cp, rating_matrix, 'angular', tree, 3, 10)\n",
    "    hit_rate_list.append(h)"
   ]
  },
  {
   "cell_type": "code",
   "execution_count": null,
   "metadata": {},
   "outputs": [],
   "source": [
    "hit_rate_list"
   ]
  },
  {
   "cell_type": "code",
   "execution_count": null,
   "metadata": {},
   "outputs": [],
   "source": [
    "trees = [10, 15, 20, 25, 30]\n",
    "hit_rate_list = [0.04645785918138796, 0.04667461435641776, 0.04793901954409162, 0.04786676781908168, 0.04765001264405188]\n",
    "cv_result_df2 = pd.DataFrame({'hit_rate': hit_rate_list, 'n_trees': trees})\n",
    "\n",
    "fig, ax = plt.subplots(figsize=(8, 6))\n",
    "sns.set_style('whitegrid')\n",
    "sns.pointplot(x=cv_result_df2.n_trees, y=cv_result_df2.hit_rate, ax=ax)\n",
    "ax.set(xlabel='Number of Trees', ylabel='Hit Rate', title='Number of Trees in ANN')"
   ]
  },
  {
   "cell_type": "code",
   "execution_count": null,
   "metadata": {},
   "outputs": [],
   "source": [
    "get_hitrate(sample_df, 14, rating_matrix_cp, rating_matrix, 'angular', 20, 3, 10)"
   ]
  },
  {
   "cell_type": "code",
   "execution_count": null,
   "metadata": {},
   "outputs": [],
   "source": [
    "ann(rating_matrix, item_vectors, 'angular', 20)"
   ]
  },
  {
   "cell_type": "code",
   "execution_count": null,
   "metadata": {},
   "outputs": [],
   "source": [
    "hit_rate_list2"
   ]
  },
  {
   "cell_type": "code",
   "execution_count": null,
   "metadata": {},
   "outputs": [],
   "source": [
    "# 0.05299664029478704\n",
    "get_hitrate(sample_df, 20, rating_matrix_cp, rating_matrix, 'angular', 10, 2, 10)\n",
    "# 0.05147935406957841\n",
    "get_hitrate(sample_df, 30, rating_matrix_cp, rating_matrix, 'angular', 10, 2, 10)\n",
    "# 0.046313355731368085\n",
    "get_hitrate(sample_df, 40, rating_matrix_cp, rating_matrix, 'angular', 10, 2, 10)\n",
    "# 0.048336404031646255\n",
    "get_hitrate(sample_df, 20, rating_matrix_cp, rating_matrix, 'angular', 20, 2, 10)\n",
    "# 0.04862541093168599\n",
    "get_hitrate(sample_df, 20, rating_matrix_cp, rating_matrix, 'angular', 30, 2, 10)"
   ]
  },
  {
   "cell_type": "code",
   "execution_count": null,
   "metadata": {},
   "outputs": [],
   "source": [
    "# for example: get the top 10 closest movied to movieid = 20\n",
    "# get name/title of the movies\n",
    "v = get_item_latent_factor(20, rating_matrix_cp)\n",
    "ind, distance = get_similar_movies(20, rating_matrix, v, 'angular', 10, 10)\n",
    "namelist = []\n",
    "interested_movie = movie_dt.loc[movie_dt['movieId'] == 20]['title']\n",
    "for movie in u.get_nns_by_item(20, 10):\n",
    "     temp = movie_dt.loc[movie_dt['movieId'] == movie]['title']\n",
    "     namelist.append(temp)\n",
    "print(f'10 movies that are similar to {interested_movie} are: {namelist}') "
   ]
  },
  {
   "cell_type": "code",
   "execution_count": null,
   "metadata": {},
   "outputs": [],
   "source": [
    "# display the recommendation list\n",
    "loaded_model = pickle.load(open(filename, 'rb'))\n",
    "item_vector = loaded_model.components_.T\n",
    "def get_recommendation(data, dimension, matrix_cp, matrix, metric, num_tree, threshold, top_n):\n",
    "    userIds = data.userId.unique()\n",
    "    v = item_vector\n",
    "    ann(matrix, v, metric, num_tree)     # save the ann in 'rating.ann' file\n",
    "    f = len(v[1])\n",
    "    u = AnnoyIndex(f, metric)\n",
    "    u.load('rating.ann')\n",
    "    # construct the recommendation list for each user\n",
    "    recommendation_dict = {}\n",
    "    for userid in userIds:\n",
    "        high_rate_movie, rate = get_rated_movies(data, userid, threshold)\n",
    "        movielist = []\n",
    "        distancelist = []\n",
    "        if len(high_rate_movie) > 1:\n",
    "            # find neighborhood of each movies in the high rated movie set\n",
    "            for movieid in high_rate_movie:\n",
    "                movie, dist = u.get_nns_by_item(movieid, top_n, include_distances=True)\n",
    "                movielist.extend(movie[1:])\n",
    "                # get the weighted distance based on rating scores\n",
    "                weighted_dist = (np.array(dist[1:])/rate[np.where(high_rate_movie == movieid)]).tolist()\n",
    "                distancelist.extend(weighted_dist)  \n",
    "            #if more than 20 movies are chosen to recommend to user, choose 20 nearest item for this user\n",
    "            if len(movielist) > 20:\n",
    "                sorted_recommend = np.array(movielist)[np.array(distancelist).argsort()]\n",
    "                movielist = sorted_recommend[:20]\n",
    "        recommendation_dict[userid] = movielist\n",
    "    return recommendation_dict\n",
    "recommendationn_list = get_recommendation(sample_df, 14, rating_matrix_cp, rating_matrix, 'angular', 20, 2, 10)"
   ]
  },
  {
   "cell_type": "code",
   "execution_count": null,
   "metadata": {},
   "outputs": [],
   "source": [
    "client_id = int(np.random.choice(sample_df.userId.unique(), 1))\n",
    "print(f'recommendation for client: {client_id}')\n",
    "movies = recommendationn_list[client_id]\n",
    "movie_dt.loc[movie_dt['movieId'].isin(movies)]"
   ]
  },
  {
   "cell_type": "code",
   "execution_count": null,
   "metadata": {},
   "outputs": [],
   "source": [
    "# find rmse in the current optimal nmf in different user group\n",
    "user_counts = sample_df.groupby('userId').size()\n",
    "active_levels = ['<10', '10-20', '20-50', '50-80', '80-150', '>150']\n",
    "\n",
    "user_counts_levels = dict.fromkeys(active_levels, None)\n",
    "user_counts_levels['<10'] = user_counts[user_counts < 10]\n",
    "user_counts_levels['10-20'] = user_counts[(user_counts >= 10) & (user_counts < 20)]\n",
    "user_counts_levels['20-50'] = user_counts[(user_counts >= 20) & (user_counts < 50)]\n",
    "user_counts_levels['50-80'] = user_counts[(user_counts >= 50) & (user_counts < 80)]\n",
    "user_counts_levels['80-150'] = user_counts[(user_counts >= 80) & (user_counts < 150)]\n",
    "user_counts_levels['>150'] = user_counts[user_counts >= 150]\n",
    "\n",
    "user_level_rmse = []\n",
    "for key in active_levels:\n",
    "    indices = user_counts_levels[key].index.tolist()\n",
    "    pred_df = sample_df[sample_df['userId'].isin(indices)]\n",
    "    rmse = get_nmf_rmse(pred_df, 14)\n",
    "    user_level_rmse.append(rmse)"
   ]
  },
  {
   "cell_type": "code",
   "execution_count": null,
   "metadata": {},
   "outputs": [],
   "source": [
    "# user_level_rmse = [1.2398, 1.1411, 1.0097, 0.9617, 0.9261, 0.8583]\n",
    "cv_result_df3 = pd.DataFrame({'rmse': user_level_rmse, 'user_count_level': active_levels})\n",
    "\n",
    "fig, ax = plt.subplots(figsize=(8, 6))\n",
    "sns.set_style('whitegrid')\n",
    "sns.pointplot(x=cv_result_df3.user_count_level, y=cv_result_df3.rmse, ax=ax)\n",
    "ax.set(xlabel='User Count Level', ylabel='RMSE', title='Number of User Rating and RMSE in NMF')"
   ]
  },
  {
   "cell_type": "code",
   "execution_count": null,
   "metadata": {},
   "outputs": [],
   "source": [
    "user_df = sample_df.loc[sample_df['userId'].isin(user_id)]\n",
    "movies = set(user_df['movieId'])\n",
    "len(movies)"
   ]
  },
  {
   "cell_type": "code",
   "execution_count": null,
   "metadata": {},
   "outputs": [],
   "source": [
    "recommendationn_list"
   ]
  }
 ],
 "metadata": {
  "interpreter": {
   "hash": "aee8b7b246df8f9039afb4144a1f6fd8d2ca17a180786b69acc140d282b71a49"
  },
  "kernelspec": {
   "display_name": "Python 3.9.10 64-bit",
   "language": "python",
   "name": "python3"
  },
  "language_info": {
   "codemirror_mode": {
    "name": "ipython",
    "version": 3
   },
   "file_extension": ".py",
   "mimetype": "text/x-python",
   "name": "python",
   "nbconvert_exporter": "python",
   "pygments_lexer": "ipython3",
   "version": "3.9.10"
  },
  "orig_nbformat": 4
 },
 "nbformat": 4,
 "nbformat_minor": 2
}
